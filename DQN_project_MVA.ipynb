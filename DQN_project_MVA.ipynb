{
 "cells": [
  {
   "cell_type": "markdown",
   "metadata": {
    "colab_type": "text",
    "id": "okkvOZvIl0CX"
   },
   "source": [
    "**You may need to install [OpenCV](https://pypi.python.org/pypi/opencv-python) and [scikit-video](http://www.scikit-video.org/stable/).**"
   ]
  },
  {
   "cell_type": "code",
   "execution_count": 4,
   "metadata": {
    "colab": {
     "base_uri": "https://localhost:8080/",
     "height": 80
    },
    "colab_type": "code",
    "id": "pM6SEJd5l0Cm",
    "outputId": "e51627ca-33d0-4d5c-b6ae-71871d2c9b22"
   },
   "outputs": [
    {
     "name": "stderr",
     "output_type": "stream",
     "text": [
      "Using TensorFlow backend.\n"
     ]
    },
    {
     "data": {
      "text/html": [
       "<p style=\"color: red;\">\n",
       "The default version of TensorFlow in Colab will soon switch to TensorFlow 2.x.<br>\n",
       "We recommend you <a href=\"https://www.tensorflow.org/guide/migrate\" target=\"_blank\">upgrade</a> now \n",
       "or ensure your notebook will continue to use TensorFlow 1.x via the <code>%tensorflow_version 1.x</code> magic:\n",
       "<a href=\"https://colab.research.google.com/notebooks/tensorflow_version.ipynb\" target=\"_blank\">more info</a>.</p>\n"
      ],
      "text/plain": [
       "<IPython.core.display.HTML object>"
      ]
     },
     "metadata": {
      "tags": []
     },
     "output_type": "display_data"
    }
   ],
   "source": [
    "import keras\n",
    "import numpy as np\n",
    "import io\n",
    "import base64\n",
    "from IPython.display import HTML\n",
    "import skvideo.io\n",
    "import cv2\n",
    "import json\n",
    "import random \n",
    "import matplotlib.pyplot as plt\n",
    "\n",
    "from keras.models import Sequential,model_from_json\n",
    "from keras.layers.core import Dense, Flatten\n",
    "from keras.optimizers import sgd\n",
    "from keras.layers import Conv2D, MaxPooling2D, Activation, AveragePooling2D,Reshape,BatchNormalization\n",
    "\n",
    "import warnings\n",
    "warnings.simplefilter('ignore')"
   ]
  },
  {
   "cell_type": "markdown",
   "metadata": {
    "colab_type": "text",
    "id": "rixE6wonl0Ct"
   },
   "source": [
    "# MiniProject on Deep Reinforcement Learning"
   ]
  },
  {
   "cell_type": "markdown",
   "metadata": {
    "colab_type": "text",
    "id": "3_EBGr_kl0C0"
   },
   "source": [
    "__Notations__: $E_p$ is the expectation under probability $p$. Please justify each of your answer and widely comment your code."
   ]
  },
  {
   "cell_type": "markdown",
   "metadata": {
    "colab_type": "text",
    "id": "fYj49rFZl0C1"
   },
   "source": [
    "# Context"
   ]
  },
  {
   "cell_type": "markdown",
   "metadata": {
    "colab_type": "text",
    "id": "ZJ-IgDkel0C3"
   },
   "source": [
    "In a reinforcement learning algorithm, we modelize each step $t$ as an action $a_t$ obtained from a state $s_t$, i.e. $\\{(a_{t},s_{t})_{t\\leq T}\\}$ having the Markov property. We consider a discount factor $\\gamma \\in [0,1]$ that ensures convergence. The goal is to find among all the policies $\\pi$, one that maximizes the expected reward:\n",
    "\n",
    "\\begin{equation*}\n",
    "R(\\pi)=\\sum_{t\\leq T}E_{p^{\\pi}}[\\gamma^t r(s_{t},a_{t})] \\> ,\n",
    "\\end{equation*}\n",
    "\n",
    "where: \n",
    "\\begin{equation*}p^{\\pi}(a_{0},a_{1},s_{1},...,a_{T},s_{T})=p(a_{0})\\prod_{t=1}^{T}\\pi(a_{t}|s_{t})p(s_{t+1}|s_{t},a_{t}) \\> .\n",
    "\\end{equation*}\n",
    "\n",
    "We note the $Q$-function:\n",
    "\n",
    "\\begin{equation*}Q^\\pi(s,a)=E_{p^{\\pi}}[\\sum_{t\\leq T}\\gamma^{t}r(s_{t},a_{t})|s_{0}=s,a_{0}=a] \\> .\n",
    "\\end{equation*}\n",
    "\n",
    "Thus, the optimal Q function is:\n",
    "\\begin{equation*}\n",
    "Q^*(s,a)=\\max_{\\pi}Q^\\pi(s,a) \\> .\n",
    "\\end{equation*}\n",
    "\n",
    "In this project, we will apply the deep reinforcement learning techniques to a simple game: an agent will have to learn from scratch a policy that will permit it maximizing a reward."
   ]
  },
  {
   "cell_type": "markdown",
   "metadata": {
    "colab_type": "text",
    "id": "0SraqRQRl0C5"
   },
   "source": [
    "## The environment, the agent and the game"
   ]
  },
  {
   "cell_type": "markdown",
   "metadata": {
    "colab_type": "text",
    "id": "b5ae3poWl0C6"
   },
   "source": [
    "### The environment"
   ]
  },
  {
   "cell_type": "markdown",
   "metadata": {
    "colab_type": "text",
    "id": "LXL82pE5l0C9"
   },
   "source": [
    "```Environment``` is an abstract class that represents the states, rewards, and actions to obtain the new state."
   ]
  },
  {
   "cell_type": "code",
   "execution_count": null,
   "metadata": {
    "colab": {},
    "colab_type": "code",
    "id": "o1kZQcnil0DA"
   },
   "outputs": [],
   "source": [
    "class Environment(object):\n",
    "    def __init__(self):\n",
    "        pass\n",
    "\n",
    "    def act(self, act):\n",
    "        \"\"\"\n",
    "        One can act on the environment and obtain its reaction:\n",
    "        - the new state\n",
    "        - the reward of the new state\n",
    "        - should we continue the game?\n",
    "\n",
    "        :return: state, reward, game_over\n",
    "        \"\"\"\n",
    "        pass\n",
    "\n",
    "\n",
    "    def reset(self):\n",
    "        \"\"\"\n",
    "        Reinitialize the environment to a random state and returns\n",
    "        the original state\n",
    "\n",
    "        :return: state\n",
    "        \"\"\"\n",
    "        pass\n",
    "    \n",
    "    def draw(self):\n",
    "        \"\"\"\n",
    "        Visualize in the console or graphically the current state\n",
    "        \"\"\"\n",
    "        pass"
   ]
  },
  {
   "cell_type": "markdown",
   "metadata": {
    "colab_type": "text",
    "id": "Y2Oan7sql0DH"
   },
   "source": [
    "The method ```act``` allows to act on the environment at a given state $s_t$ (stored internally), via action $a_t$. The method will return the new state $s_{t+1}$, the reward $r(s_{t},a_{t})$ and determines if $t\\leq T$ (*game_over*).\n",
    "\n",
    "The method ```reset``` simply reinitializes the environment to a random state $s_0$.\n",
    "\n",
    "The method ```draw``` displays the current state $s_t$ (this is useful to check the behavior of the Agent).\n",
    "\n",
    "We modelize $s_t$ as a tensor, while $a_t$ is an integer."
   ]
  },
  {
   "cell_type": "markdown",
   "metadata": {
    "colab_type": "text",
    "id": "MMJNMQ0Al0DJ"
   },
   "source": [
    "### The Agent"
   ]
  },
  {
   "cell_type": "markdown",
   "metadata": {
    "colab_type": "text",
    "id": "Y6xV1RUWl0DK"
   },
   "source": [
    "The goal of the ```Agent``` is to interact with the ```Environment``` by proposing actions $a_t$ obtained from a given state $s_t$ to attempt to maximize its __reward__ $r(s_t,a_t)$. We propose the following abstract class:"
   ]
  },
  {
   "cell_type": "code",
   "execution_count": null,
   "metadata": {
    "colab": {},
    "colab_type": "code",
    "id": "eU_OfWUGl0DS"
   },
   "outputs": [],
   "source": [
    "class Agent(object):\n",
    "    def __init__(self, epsilon=0.1, n_action=4):\n",
    "        self.epsilon = epsilon\n",
    "        self.n_action = n_action\n",
    "    \n",
    "    def set_epsilon(self,e):\n",
    "        self.epsilon = e\n",
    "\n",
    "    def act(self,s,train=True):\n",
    "        \"\"\" This function should return the next action to do:\n",
    "        an integer between 0 and 4 (not included) with a random exploration of epsilon\"\"\"\n",
    "        if train:\n",
    "            if np.random.rand() <= self.epsilon:\n",
    "                a = np.random.randint(0, self.n_action, size=1)[0]\n",
    "            else:\n",
    "                a = self.learned_act(s)\n",
    "        else: # in some cases, this can improve the performance.. remove it if poor performances\n",
    "            a = self.learned_act(s)\n",
    "\n",
    "        return a\n",
    "\n",
    "    def learned_act(self,s):\n",
    "        \"\"\" Act via the policy of the agent, from a given state s\n",
    "        it proposes an action a\"\"\"\n",
    "        pass\n",
    "\n",
    "    def reinforce(self, s, n_s, a, r, game_over_):\n",
    "        \"\"\" This function is the core of the learning algorithm. \n",
    "        It takes as an input the current state s_, the next state n_s_\n",
    "        the action a_ used to move from s_ to n_s_ and the reward r_.\n",
    "        \n",
    "        Its goal is to learn a policy.\n",
    "        \"\"\"\n",
    "        pass\n",
    "\n",
    "    def save(self):\n",
    "        \"\"\" This function returns basic stats if applicable: the\n",
    "        loss and/or the model\"\"\"\n",
    "        pass\n",
    "\n",
    "    def load(self):\n",
    "        \"\"\" This function allows to restore a model\"\"\"\n",
    "        pass"
   ]
  },
  {
   "cell_type": "markdown",
   "metadata": {
    "colab_type": "text",
    "id": "5_PIGnyil0De"
   },
   "source": [
    "***\n",
    "__Question 1__:\n",
    "Explain the function act. Why is ```epsilon``` essential?"
   ]
  },
  {
   "cell_type": "markdown",
   "metadata": {
    "colab_type": "text",
    "id": "KD4Yn7r9l0Dg"
   },
   "source": [
    "**Answer** \n",
    "\n",
    "The function ```act``` proceeds to an $\\varepsilon$-greedy choice of action. \n",
    "It goes as follows: \n",
    "- with probability $1-\\varepsilon$, select learned_act (ie the optimal action according to the current estimations)\n",
    "- with probability $\\varepsilon$, select the action to take uniformly over the set of actions. \n",
    "\n",
    "This allows for exploration of all actions (if ```epsilon``` is high enough), while making sure that we do not choose actions which may be suboptimal too often.\n",
    "\n",
    "It is a simple way to tackle the exploration-exploitation dilemma."
   ]
  },
  {
   "cell_type": "markdown",
   "metadata": {
    "colab_type": "text",
    "id": "rB1sTijtl0Dk"
   },
   "source": [
    "***\n",
    "### The Game"
   ]
  },
  {
   "cell_type": "markdown",
   "metadata": {
    "colab_type": "text",
    "id": "3b3O3qv9l0Dn"
   },
   "source": [
    "The ```Agent``` and the ```Environment``` work in an interlaced way as in the following (take some time to understand this code as it is the core of the project)\n",
    "\n",
    "```python\n",
    "\n",
    "epoch = 300\n",
    "env = Environment()\n",
    "agent = Agent()\n",
    "\n",
    "\n",
    "# Number of won games\n",
    "score = 0\n",
    "loss = 0\n",
    "\n",
    "\n",
    "for e in range(epoch):\n",
    "    # At each epoch, we restart to a fresh game and get the initial state\n",
    "    state = env.reset()\n",
    "    # This assumes that the games will end\n",
    "    game_over = False\n",
    "\n",
    "    win = 0\n",
    "    lose = 0\n",
    "    \n",
    "    while not game_over:\n",
    "        # The agent performs an action\n",
    "        action = agent.act(state)\n",
    "\n",
    "        # Apply an action to the environment, get the next state, the reward\n",
    "        # and if the games end\n",
    "        prev_state = state\n",
    "        state, reward, game_over = env.act(action)\n",
    "\n",
    "        # Update the counters\n",
    "        if reward > 0:\n",
    "            win = win + reward\n",
    "        if reward < 0:\n",
    "            lose = lose -reward\n",
    "\n",
    "        # Apply the reinforcement strategy\n",
    "        loss = agent.reinforce(prev_state, state,  action, reward, game_over)\n",
    "\n",
    "    # Save as a mp4\n",
    "    if e % 10 == 0:\n",
    "        env.draw(e)\n",
    "\n",
    "    # Update stats\n",
    "    score += win-lose\n",
    "\n",
    "    print(\"Epoch {:03d}/{:03d} | Loss {:.4f} | Win/lose count {}/{} ({})\"\n",
    "          .format(e, epoch, loss, win, lose, win-lose))\n",
    "    agent.save()\n",
    "```"
   ]
  },
  {
   "cell_type": "markdown",
   "metadata": {
    "colab_type": "text",
    "id": "Ujetfce2l0Dq"
   },
   "source": [
    "# The game, *eat cheese*"
   ]
  },
  {
   "cell_type": "markdown",
   "metadata": {
    "colab_type": "text",
    "id": "7_h7814tl0Ds"
   },
   "source": [
    "A rat runs on an island and tries to eat as much as possible. The island is subdivided into $N\\times N$ cells, in which there are cheese (+0.5) and poisonous cells (-1). The rat has a visibility of 2 cells (thus it can see $5^2$ cells). The rat is given a time $T$ to accumulate as much food as possible. It can perform 4 actions: going up, down, left, right. \n",
    "\n",
    "The goal is to code an agent to solve this task that will learn by trial and error. We propose the following environment:"
   ]
  },
  {
   "cell_type": "code",
   "execution_count": null,
   "metadata": {
    "colab": {},
    "colab_type": "code",
    "id": "sipeq3hjl0Du"
   },
   "outputs": [],
   "source": [
    "class Environment(object):\n",
    "    def __init__(self, grid_size=10, max_time=500, temperature=0.1):\n",
    "        grid_size = grid_size+4\n",
    "        self.grid_size = grid_size\n",
    "        self.max_time = max_time\n",
    "        self.temperature = temperature\n",
    "\n",
    "        #board on which one plays\n",
    "        self.board = np.zeros((grid_size,grid_size))\n",
    "        self.position = np.zeros((grid_size,grid_size))\n",
    "\n",
    "        # coordinate of the rat\n",
    "        self.x = 0\n",
    "        self.y = 1\n",
    "\n",
    "        # self time\n",
    "        self.t = 0\n",
    "\n",
    "        self.scale=16\n",
    "\n",
    "        self.to_draw = np.zeros((max_time+2, grid_size*self.scale, grid_size*self.scale, 3))\n",
    "\n",
    "\n",
    "    def draw(self,e):\n",
    "        skvideo.io.vwrite(str(e) + '.mp4', self.to_draw)\n",
    "\n",
    "    def get_frame(self,t):\n",
    "        b = np.zeros((self.grid_size,self.grid_size,3))+128\n",
    "        b[self.board>0,0] = 256\n",
    "        b[self.board < 0, 2] = 256\n",
    "        b[self.x,self.y,:]=256\n",
    "        b[-2:,:,:]=0\n",
    "        b[:,-2:,:]=0\n",
    "        b[:2,:,:]=0\n",
    "        b[:,:2,:]=0\n",
    "        \n",
    "        b =  cv2.resize(b, None, fx=self.scale, fy=self.scale, interpolation=cv2.INTER_NEAREST)\n",
    "\n",
    "        self.to_draw[t,:,:,:]=b\n",
    "\n",
    "\n",
    "    def act(self, action):\n",
    "        \"\"\"This function returns the new state, reward and decides if the\n",
    "        game ends.\"\"\"\n",
    "\n",
    "        self.get_frame(int(self.t))\n",
    "\n",
    "        self.position = np.zeros((self.grid_size, self.grid_size))\n",
    "\n",
    "        self.position[0:2,:]= -1\n",
    "        self.position[:,0:2] = -1\n",
    "        self.position[-2:, :] = -1\n",
    "        self.position[:, -2:] = -1\n",
    "\n",
    "        self.position[self.x, self.y] = 1\n",
    "        if action == 0:\n",
    "            if self.x == self.grid_size-3:\n",
    "                self.x = self.x-1\n",
    "            else:\n",
    "                self.x = self.x + 1\n",
    "        elif action == 1:\n",
    "            if self.x == 2:\n",
    "                self.x = self.x+1\n",
    "            else:\n",
    "                self.x = self.x-1\n",
    "        elif action == 2:\n",
    "            if self.y == self.grid_size - 3:\n",
    "                self.y = self.y - 1\n",
    "            else:\n",
    "                self.y = self.y + 1\n",
    "        elif action == 3:\n",
    "            if self.y == 2:\n",
    "                self.y = self.y + 1\n",
    "            else:\n",
    "                self.y = self.y - 1\n",
    "        else:\n",
    "            RuntimeError('Error: action not recognized')\n",
    "\n",
    "        self.t = self.t + 1\n",
    "        reward = self.board[self.x, self.y]\n",
    "        self.board[self.x, self.y] = 0\n",
    "        game_over = self.t > self.max_time\n",
    "        state = np.concatenate((self.board.reshape(self.grid_size, self.grid_size,1),\n",
    "                        self.position.reshape(self.grid_size, self.grid_size,1)),axis=2)\n",
    "        state = state[self.x-2:self.x+3,self.y-2:self.y+3,:]\n",
    "\n",
    "        return state, reward, game_over\n",
    "\n",
    "    def reset(self):\n",
    "        \"\"\"This function resets the game and returns the initial state\"\"\"\n",
    "\n",
    "        self.x = np.random.randint(3, self.grid_size-3, size=1)[0]\n",
    "        self.y = np.random.randint(3, self.grid_size-3, size=1)[0]\n",
    "\n",
    "\n",
    "        bonus = 0.5*np.random.binomial(1,self.temperature,size=self.grid_size**2)\n",
    "        bonus = bonus.reshape(self.grid_size,self.grid_size)\n",
    "\n",
    "        malus = -1.0*np.random.binomial(1,self.temperature,size=self.grid_size**2)\n",
    "        malus = malus.reshape(self.grid_size, self.grid_size)\n",
    "\n",
    "        self.to_draw = np.zeros((self.max_time+2, self.grid_size*self.scale, self.grid_size*self.scale, 3))\n",
    "\n",
    "\n",
    "        malus[bonus>0]=0\n",
    "\n",
    "        self.board = bonus + malus\n",
    "\n",
    "        self.position = np.zeros((self.grid_size, self.grid_size))\n",
    "        self.position[0:2,:]= -1\n",
    "        self.position[:,0:2] = -1\n",
    "        self.position[-2:, :] = -1\n",
    "        self.position[:, -2:] = -1\n",
    "        self.board[self.x,self.y] = 0\n",
    "        self.t = 0\n",
    "\n",
    "        state = np.concatenate((\n",
    "                               self.board.reshape(self.grid_size, self.grid_size,1),\n",
    "                        self.position.reshape(self.grid_size, self.grid_size,1)),axis=2)\n",
    "\n",
    "        state = state[self.x - 2:self.x + 3, self.y - 2:self.y + 3, :]\n",
    "        return state"
   ]
  },
  {
   "cell_type": "markdown",
   "metadata": {
    "colab_type": "text",
    "id": "eCvNPWk9l0EK"
   },
   "source": [
    "The following elements are important because they correspond to the hyper parameters for this project:"
   ]
  },
  {
   "cell_type": "code",
   "execution_count": null,
   "metadata": {
    "colab": {},
    "colab_type": "code",
    "id": "1Udl9edCl0EM"
   },
   "outputs": [],
   "source": [
    "# parameters\n",
    "size = 13\n",
    "T=200\n",
    "temperature=0.3\n",
    "epochs_train=10 # set small when debugging\n",
    "epochs_test=10 # set small when debugging\n",
    "\n",
    "# display videos\n",
    "def display_videos(name):\n",
    "    video = io.open(name, 'r+b').read()\n",
    "    encoded = base64.b64encode(video)\n",
    "    return '''<video alt=\"test\" controls>\n",
    "                <source src=\"data:video/mp4;base64,{0}\" type=\"video/mp4\" />\n",
    "             </video>'''.format(encoded.decode('ascii'))"
   ]
  },
  {
   "cell_type": "markdown",
   "metadata": {
    "colab_type": "text",
    "id": "FmS15sYBl0ER"
   },
   "source": [
    "__Question 2__ Explain the use of the arrays ```position``` and ```board```."
   ]
  },
  {
   "cell_type": "markdown",
   "metadata": {
    "colab_type": "text",
    "id": "XkJJQzvRl0EV"
   },
   "source": [
    "**Answer**\n",
    "\n",
    "The ```board``` array is a matrix which represents the physical environment. Each element of the matrix corresponds to a cell in the problem, and may have positive reward (or bonus) or a negative reward (or malus), according to whether there is cheese or poison on the cell, or no reward at all if there is nothing on the cell. \n",
    "\n",
    "The ```position``` array has the same shape as the ```board``` array. It represents the positions where the rat is with a 1. It helps to define the state, since it gives the position of the visible cells from the rat's position.\n",
    "\n"
   ]
  },
  {
   "cell_type": "markdown",
   "metadata": {
    "colab_type": "text",
    "id": "N9kdOS5nl0EW"
   },
   "source": [
    "## Random Agent"
   ]
  },
  {
   "cell_type": "markdown",
   "metadata": {
    "colab_type": "text",
    "id": "KZ8T6oail0EX"
   },
   "source": [
    "***\n",
    "__Question 3__ Implement a random Agent (only ```learned_act``` needs to be implemented):"
   ]
  },
  {
   "cell_type": "markdown",
   "metadata": {
    "colab_type": "text",
    "id": "sK-wuN1v6aFB"
   },
   "source": [
    "This is a random agent, so that there is no proper learning: it selects its action randomly."
   ]
  },
  {
   "cell_type": "code",
   "execution_count": null,
   "metadata": {
    "colab": {},
    "colab_type": "code",
    "id": "7NMLBRS-l0EY"
   },
   "outputs": [],
   "source": [
    "class RandomAgent(Agent):\n",
    "    def __init__(self):\n",
    "        super(RandomAgent, self).__init__()\n",
    "        pass\n",
    "\n",
    "    def learned_act(self, s):\n",
    "        \"\"\"\n",
    "        returns random action\n",
    "        \"\"\"\n",
    "        action = np.random.randint(4)\n",
    "        return action"
   ]
  },
  {
   "cell_type": "markdown",
   "metadata": {
    "colab_type": "text",
    "id": "6qF_CJ8Jl0Em"
   },
   "source": [
    "***\n",
    "***\n",
    "__Question 4__ Visualize the game moves. You need to fill in the following function for the evaluation:"
   ]
  },
  {
   "cell_type": "code",
   "execution_count": null,
   "metadata": {
    "colab": {},
    "colab_type": "code",
    "id": "77d6GZesl0En"
   },
   "outputs": [],
   "source": [
    "def test(agent,env,epochs,prefix=''):\n",
    "    # Number of won games\n",
    "    score = 0\n",
    "        \n",
    "    for e in range(1,epochs+1):\n",
    "        \n",
    "        state = env.reset()\n",
    "        game_over = False\n",
    "        win = 0\n",
    "        lose = 0\n",
    "        while not game_over and env.t<T:\n",
    "            action = agent.act(state,train=False)\n",
    "            state,reward,game_over = env.act(action)\n",
    "            if reward >=0: \n",
    "                win += reward\n",
    "            else: \n",
    "                lose -= reward \n",
    "        \n",
    "        # Save as a mp4\n",
    "        env.draw(prefix+str(e))\n",
    "\n",
    "        # Update stats\n",
    "        score = score + win-lose\n",
    "        if e%10 == 0:\n",
    "            print(\"Win/lose count {}/{}. Average score ({})\"\n",
    "                  .format(win, lose, score/e))\n",
    "    print('Final score: '+str(score/epochs))"
   ]
  },
  {
   "cell_type": "code",
   "execution_count": 10,
   "metadata": {
    "colab": {
     "base_uri": "https://localhost:8080/",
     "height": 327
    },
    "colab_type": "code",
    "id": "3vTVKdP5l0Er",
    "outputId": "5151afbf-16f4-4ed9-c4c6-069eabbad7ee"
   },
   "outputs": [
    {
     "name": "stdout",
     "output_type": "stream",
     "text": [
      "Win/lose count 7.5/9.0. Average score (-3.5)\n",
      "Final score: -3.5\n"
     ]
    },
    {
     "data": {
      "text/html": [
       "<video alt=\"test\" controls>\n",
       "                <source src=\"data:video/mp4;base64,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\" type=\"video/mp4\" />\n",
       "             </video>"
      ],
      "text/plain": [
       "<IPython.core.display.HTML object>"
      ]
     },
     "execution_count": 10,
     "metadata": {
      "tags": []
     },
     "output_type": "execute_result"
    }
   ],
   "source": [
    "# Initialize the game\n",
    "env = Environment(grid_size=size, max_time=T,temperature=temperature)\n",
    "\n",
    "# Initialize the agent!\n",
    "agent = RandomAgent()\n",
    "\n",
    "test(agent,env,epochs_test,prefix='random')\n",
    "HTML(display_videos('random10.mp4'))"
   ]
  },
  {
   "cell_type": "markdown",
   "metadata": {
    "colab_type": "text",
    "id": "iUD9zz7Nl0Ey"
   },
   "source": [
    "***\n",
    "## DQN"
   ]
  },
  {
   "cell_type": "markdown",
   "metadata": {
    "colab_type": "text",
    "id": "AITUj-L0l0E1"
   },
   "source": [
    "Let us assume here that $T=\\infty$.\n",
    "\n",
    "***\n",
    "__Question 5__ Let $\\pi$ be a policy, show that:\n",
    "\n",
    "\\begin{equation*}\n",
    "Q^{\\pi}(s,a)=E_{(s',a')\\sim p(.|s,a)}[r(s,a)+\\gamma Q^{\\pi}(s',a')]\n",
    "\\end{equation*}\n",
    "\n",
    "Then, show that for the optimal policy $\\pi^*$ (we assume its existence), the following holds: \n",
    "\n",
    "\\begin{equation*}\n",
    "Q^{*}(s,a)=E_{s'\\sim \\pi^*(.|s,a)}[r(s,a)+\\gamma\\max_{a'}Q^{*}(s',a')].\n",
    "\\end{equation*}\n",
    "Finally, deduce that a plausible objective is:\n",
    "\n",
    "\\begin{equation*}\n",
    "\\mathcal{L}(\\theta)=E_{s' \\sim \\pi^*(.|s,a)}\\Vert r+\\gamma\\max\\max_{a'}Q(s',a',\\theta)-Q(s,a,\\theta)\\Vert^{2}.\n",
    "\\end{equation*}\n",
    "\n",
    "\n"
   ]
  },
  {
   "cell_type": "markdown",
   "metadata": {
    "colab_type": "text",
    "id": "1mzvIDtil0E3"
   },
   "source": [
    "**Answer**\n",
    "\n",
    "We have \n",
    "\n",
    "\\begin{equation}\n",
    "\\begin{split}\n",
    "Q^\\pi(s,a)\n",
    "&=E_{p^{\\pi}}[\\sum_{t=0}^{\\infty}\\gamma^{t}r(s_{t},a_{t})|s_{0}=s,a_{0}=a] \\\\\n",
    "&= \\gamma^0 r(s,a)+ \\sum_{s',a'} p(s'|s,a)E_{p^{\\pi}} [\\sum_{t=1}^ {\\infty}\\gamma^{t}r(s_{t},a_{t})|s_{1}=s',a_{1}=a'] \\\\\n",
    "&= r(s,a) + \\gamma \\sum_{s',a'} p(s'|s,a)E_{p^{\\pi}} [\\sum_{t=0}^ {\\infty}\\gamma^{t}r(s_{t},a_{t})|s_{0}=s',a_{0}=a'] \\\\\n",
    "&= r(s,a) + \\gamma E_{p^{\\pi}} Q^\\pi(s',a') \\\\\n",
    "&= E_{p^{\\pi}}[r(s,a) + \\gamma Q^\\pi(s',a')]\n",
    "\\end{split}\n",
    "\\end{equation}\n",
    "\n",
    "Moreover, $Q^*(s,a) = \\underset{\\pi}{max} Q^{\\pi}(s,a)$\n",
    "\n",
    "Using the previous result, taking the max on $\\pi$, it comes that \n",
    "$$\n",
    "\\max_{\\pi} Q^{\\pi}(s,a)=E_{s'\\sim p(.|s,a)}[r(s,a)+\\gamma\\max_{\\pi}Q^{\\pi}(s',a')].\n",
    "$$\n",
    "which gives us the desired result.\n",
    "\n",
    "From this, we want for our $Q$\n",
    "$$\n",
    "E_{s'\\sim \\pi^*(.|s,a)}[r(s,a)+\\gamma\\max_{a'}Q(s',a',\\theta)]-Q(s,a,\\theta) = E_{s'\\sim \\pi^*(.|s,a)}[r(s,a)+\\gamma\\max_{a'}Q(s',a',\\theta)-Q(s,a,\\theta)]\n",
    "$$\n",
    "\n",
    "to be as close as possible to 0. \n",
    "With Jensen inequality, \n",
    "$$\n",
    "E_{s'\\sim \\pi^*(.|s,a)}[r(s,a)+\\gamma\\max_{a'}Q(s',a',\\theta)-Q(s,a,\\theta)]^2 \n",
    "\\leq\n",
    "E_{s'\\sim \\pi^*(.|s,a)}[||r(s,a)+\\gamma\\max_{a'}Q(s',a',\\theta)-Q(s,a,\\theta)||^2] \n",
    "$$\n",
    "And it is easy to compute an empirical estimate of this final term, so that we can define $\\mathcal{L}(\\theta)$ a such.\n",
    "\n",
    "\n"
   ]
  },
  {
   "cell_type": "markdown",
   "metadata": {
    "colab_type": "text",
    "id": "Yb4N9pPvl0E4"
   },
   "source": [
    "***\n",
    "The DQN-learning algorithm relies on these derivations to train the parameters $\\theta$ of a Deep Neural Network:\n",
    "\n",
    "1. At the state $s_t$, select the action $a_t$ with best reward using $Q_t$ and store the results;\n",
    "\n",
    "2. Obtain the new state $s_{t+1}$ from the environment $p$;\n",
    "\n",
    "3. Store $(s_t,a_t,s_{t+1})$;\n",
    "\n",
    "4. Obtain $Q_{t+1}$ by minimizing  $\\mathcal{L}$ from a recovered batch from the previously stored results.\n",
    "\n",
    "***\n",
    "__Question 6__ Implement the class ```Memory``` that stores moves (in a replay buffer) via ```remember``` and provides a ```random_access``` to these. Specify a maximum memory size to avoid side effects. You can for example use a ```list()``` and set by default ```max_memory=100```."
   ]
  },
  {
   "cell_type": "code",
   "execution_count": null,
   "metadata": {
    "colab": {},
    "colab_type": "code",
    "id": "vnBHbADDl0E6"
   },
   "outputs": [],
   "source": [
    "class Memory(object):\n",
    "    def __init__(self, max_memory=100):\n",
    "        self.max_memory = max_memory\n",
    "        self.memory = list()\n",
    "\n",
    "    def remember(self, m):\n",
    "        \"\"\"\n",
    "        if the memory is not full, adds the episode.\n",
    "        Otherwise, deletes the most ancient episode in memory and add the new episode\n",
    "        \"\"\"\n",
    "        if len(self.memory)<self.max_memory:\n",
    "            self.memory.append(m[:])\n",
    "        else: \n",
    "            self.memory.pop(0) #remove most ancient transition in the memory \n",
    "            self.memory.append(m[:])\n",
    "\n",
    "    def random_access(self):\n",
    "        #return random samples from the memory\n",
    "        return random.sample(self.memory,1)[0]"
   ]
  },
  {
   "cell_type": "markdown",
   "metadata": {
    "colab_type": "text",
    "id": "t5tAZiV7l0FJ"
   },
   "source": [
    "***\n",
    "The pipeline we will use for training is given below:"
   ]
  },
  {
   "cell_type": "code",
   "execution_count": null,
   "metadata": {
    "colab": {},
    "colab_type": "code",
    "id": "2vNBS5Lxl0FK"
   },
   "outputs": [],
   "source": [
    "def train(agent,env,epoch,prefix=''):\n",
    "    # Number of won games\n",
    "    score = 0\n",
    "    loss = 0\n",
    "    scores = [] #for plotting\n",
    "    losses = [] #for plotting\n",
    "    for e in range(1,epoch+1):\n",
    "        # At each epoch, we restart to a fresh game and get the initial state\n",
    "        state = env.reset()\n",
    "        # This assumes that the games will terminate\n",
    "        game_over = False\n",
    "\n",
    "        win = 0\n",
    "        lose = 0\n",
    "\n",
    "        while not game_over:\n",
    "            # The agent performs an action\n",
    "            action = agent.act(state)\n",
    "\n",
    "            # Apply an action to the environment, get the next state, the reward\n",
    "            # and if the games end\n",
    "            prev_state = state\n",
    "            state, reward, game_over = env.act(action)\n",
    "\n",
    "            # Update the counters\n",
    "            if reward > 0:\n",
    "                win = win + reward\n",
    "            if reward < 0:\n",
    "                lose = lose -reward\n",
    "\n",
    "            # Apply the reinforcement strategy\n",
    "            loss = agent.reinforce(prev_state, state,  action, reward, game_over)\n",
    "\n",
    "        # Save as a mp4\n",
    "        if e % 10 == 0:\n",
    "            env.draw(prefix+str(e))\n",
    "            \n",
    "        # Update stats\n",
    "        score = win-lose\n",
    "        scores.append(score)\n",
    "        losses.append(loss)\n",
    "        if e%10==0:\n",
    "            print(\"Epoch {:03d}/{:03d} | Loss {:.4f} | Win/lose count {}/{} ({})\"\n",
    "                  .format(e, epoch, loss, win, lose, win-lose))\n",
    "            \n",
    "    agent.save(name_weights=prefix+'model.h5',name_model=prefix+'model.json')\n",
    "\n",
    "    #plotting\n",
    "    fig,(ax1,ax2) = plt.subplots(1,2,figsize=(14,5))\n",
    "    ax1.plot(scores,c='g')\n",
    "    ax1.set_title('Evolution of score')\n",
    "    ax1.set_ylabel('Score')\n",
    "    ax1.set_xlabel('Epoch')\n",
    "\n",
    "    ax2.plot(losses,c='b')\n",
    "    ax2.set_title('Evolution of loss')\n",
    "    ax2.set_ylabel('Loss')\n",
    "    ax2.set_xlabel('Epoch')"
   ]
  },
  {
   "cell_type": "markdown",
   "metadata": {
    "colab_type": "text",
    "id": "4xmvwgtyl0FQ"
   },
   "source": [
    "***\n",
    "__Question 7__ Implement the DQN training algorithm using a cascade of fully connected layers. You can use different learning rate, batch size or memory size parameters. In particular, the loss might oscillate while the player will start to win the games. You have to find a good criterium."
   ]
  },
  {
   "cell_type": "code",
   "execution_count": null,
   "metadata": {
    "colab": {},
    "colab_type": "code",
    "id": "oOBwjepYl0FS"
   },
   "outputs": [],
   "source": [
    "class DQN(Agent):\n",
    "    def __init__(self, grid_size,  epsilon = 0.1, memory_size=100, batch_size = 16,n_state=2):\n",
    "        super(DQN, self).__init__(epsilon = epsilon)\n",
    "\n",
    "        # Discount for Q learning\n",
    "        self.discount = 0.99\n",
    "        \n",
    "        self.grid_size = grid_size\n",
    "        \n",
    "        # number of states\n",
    "        self.n_state = n_state\n",
    "\n",
    "        # Memory\n",
    "        self.memory = Memory(memory_size)\n",
    "        \n",
    "        # Batch size when learning\n",
    "        self.batch_size = batch_size\n",
    "\n",
    "    def learned_act(self, s):\n",
    "        #greedy estimation of the best action\n",
    "        return np.argmax(self.model.predict(s.reshape(1,5,5,self.n_state)))\n",
    "\n",
    "    def reinforce(self, s_, n_s_, a_, r_, game_over_):\n",
    "        # Two steps: first memorize the states, second learn from the pool\n",
    "\n",
    "        self.memory.remember([s_, n_s_, a_, r_, game_over_])\n",
    "        \n",
    "        input_states = np.zeros((self.batch_size, 5,5,self.n_state))\n",
    "        target_q = np.zeros((self.batch_size, 4))\n",
    "        \n",
    "        for i in range(self.batch_size):\n",
    "            \n",
    "            s,ns,a,r,game_over = self.memory.random_access()\n",
    "            target_q[i] = self.model.predict(s.reshape(1,5,5,self.n_state))\n",
    "            if game_over_: #no next state \n",
    "                target_q[i][a] = r\n",
    "                \n",
    "            else:\n",
    "                #give the right shape for prediction\n",
    "                ns = ns.reshape(1,5,5,self.n_state)\n",
    "                pred = self.model.predict(ns)\n",
    "               \n",
    "                Q_future = max(pred[0])\n",
    "                target_q[i][a] = r + Q_future * self.discount\n",
    "\n",
    "            input_states[i] = s\n",
    "        \n",
    "        # HINT: Clip the target to avoid exploiding gradients.. -- clipping is a bit tighter\n",
    "        target_q = np.clip(target_q, -3, 3)\n",
    "\n",
    "        l = self.model.train_on_batch(input_states, target_q)\n",
    "        \n",
    "        return l\n",
    "\n",
    "    def save(self,name_weights='model.h5',name_model='model.json'):\n",
    "        self.model.save_weights(name_weights, overwrite=True)\n",
    "        with open(name_model, \"w\") as outfile:\n",
    "            json.dump(self.model.to_json(), outfile)\n",
    "            \n",
    "    def load(self,name_weights='model.h5',name_model='model.json'):\n",
    "        with open(name_model, \"r\") as jfile:\n",
    "            model = model_from_json(json.load(jfile))\n",
    "        model.load_weights(name_weights)\n",
    "        model.compile(\"sgd\", \"mse\")\n",
    "        self.model = model\n",
    "\n",
    "            \n",
    "class DQN_FC(DQN):\n",
    "    def __init__(self, *args, lr=0.1,**kwargs):\n",
    "        super(DQN_FC, self).__init__( *args,**kwargs)\n",
    "        \n",
    "        #simple fully connected model\n",
    "        model   = Sequential()\n",
    "        model.add(Flatten())\n",
    "        model.add(Dense(24, input_dim=5*5*self.n_state, activation=\"relu\"))\n",
    "        model.add(Dense(24, activation=\"relu\"))\n",
    "        model.add(Dense(self.n_action))\n",
    "        \n",
    "        model.compile(sgd(lr=lr, decay=1e-4, momentum=0.0), \"mse\")\n",
    "        self.model = model\n",
    "        "
   ]
  },
  {
   "cell_type": "code",
   "execution_count": 38,
   "metadata": {
    "colab": {
     "base_uri": "https://localhost:8080/",
     "height": 796
    },
    "colab_type": "code",
    "id": "bTLwWZPnl0Fd",
    "outputId": "9446470f-9940-45be-a770-eef6c9face8f"
   },
   "outputs": [
    {
     "name": "stdout",
     "output_type": "stream",
     "text": [
      "Epoch 010/100 | Loss 0.1326 | Win/lose count 2.5/7.0 (-4.5)\n",
      "Epoch 020/100 | Loss 1.7657 | Win/lose count 4.0/1.0 (3.0)\n",
      "Epoch 030/100 | Loss 1.8597 | Win/lose count 2.0/2.0 (0.0)\n",
      "Epoch 040/100 | Loss 1.6752 | Win/lose count 5.0/4.0 (1.0)\n",
      "Epoch 050/100 | Loss 1.6980 | Win/lose count 4.0/4.0 (0.0)\n",
      "Epoch 060/100 | Loss 1.7840 | Win/lose count 16.0/7.0 (9.0)\n",
      "Epoch 070/100 | Loss 1.6748 | Win/lose count 3.0/2.0 (1.0)\n",
      "Epoch 080/100 | Loss 1.6523 | Win/lose count 11.5/2.0 (9.5)\n",
      "Epoch 090/100 | Loss 1.6701 | Win/lose count 9.0/2.0 (7.0)\n",
      "Epoch 100/100 | Loss 1.8228 | Win/lose count 9.0/2.0 (7.0)\n"
     ]
    },
    {
     "data": {
      "text/html": [
       "<video alt=\"test\" controls>\n",
       "                <source src=\"data:video/mp4;base64,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\" type=\"video/mp4\" />\n",
       "             </video>"
      ],
      "text/plain": [
       "<IPython.core.display.HTML object>"
      ]
     },
     "execution_count": 38,
     "metadata": {
      "tags": []
     },
     "output_type": "execute_result"
    },
    {
     "data": {
      "image/png": "[encoded data removed]",
      "text/plain": [
       "<Figure size 1008x360 with 2 Axes>"
      ]
     },
     "metadata": {
      "tags": []
     },
     "output_type": "display_data"
    }
   ],
   "source": [
    "epochs_train = 100\n",
    "env = Environment(grid_size=size, max_time=T, temperature=0.3)\n",
    "agent = DQN_FC(size, lr=.1, epsilon = 0.1, memory_size=2000, batch_size = 32)\n",
    "train(agent, env, epochs_train, prefix='fc_train')\n",
    "HTML(display_videos('fc_train'+str(epochs_train)+'.mp4'))"
   ]
  },
  {
   "cell_type": "markdown",
   "metadata": {
    "colab_type": "text",
    "id": "HEoHaRYa7uGw"
   },
   "source": [
    "The loss does not evolve much after the first few epochs, but the score improves (even if it has a large variance)."
   ]
  },
  {
   "cell_type": "markdown",
   "metadata": {
    "colab_type": "text",
    "id": "-KwS9ZUGl0Fy"
   },
   "source": [
    "***\n",
    "***\n",
    "__Question 8__ Implement the DQN training algorithm using a CNN (for example, 2 convolutional layers and one final fully connected layer)."
   ]
  },
  {
   "cell_type": "code",
   "execution_count": null,
   "metadata": {
    "colab": {},
    "colab_type": "code",
    "id": "mSg-q3AWl0Fz"
   },
   "outputs": [],
   "source": [
    "class DQN_CNN(DQN):\n",
    "    def __init__(self, *args,lr=0.1,**kwargs):\n",
    "        super(DQN_CNN, self).__init__(*args,**kwargs)\n",
    "        \n",
    "        #simple convolutional model\n",
    "        model = Sequential()\n",
    "        model.add(Conv2D(9,3,activation='relu'))\n",
    "        model.add(Conv2D(9,3,activation='relu'))\n",
    "        model.add(Flatten())\n",
    "        model.add(Dense(self.n_action))\n",
    "        model.compile(sgd(lr=lr, decay=1e-4, momentum=0.0), \"mse\")\n",
    "        self.model = model"
   ]
  },
  {
   "cell_type": "code",
   "execution_count": 15,
   "metadata": {
    "colab": {
     "base_uri": "https://localhost:8080/",
     "height": 1000
    },
    "colab_type": "code",
    "id": "6hsTEmX3l0F_",
    "outputId": "e23865a5-e6e9-4599-b243-26f44e46ef96"
   },
   "outputs": [
    {
     "name": "stdout",
     "output_type": "stream",
     "text": [
      "WARNING:tensorflow:From /usr/local/lib/python3.6/dist-packages/keras/backend/tensorflow_backend.py:66: The name tf.get_default_graph is deprecated. Please use tf.compat.v1.get_default_graph instead.\n",
      "\n",
      "WARNING:tensorflow:From /usr/local/lib/python3.6/dist-packages/keras/optimizers.py:793: The name tf.train.Optimizer is deprecated. Please use tf.compat.v1.train.Optimizer instead.\n",
      "\n",
      "WARNING:tensorflow:From /usr/local/lib/python3.6/dist-packages/keras/backend/tensorflow_backend.py:541: The name tf.placeholder is deprecated. Please use tf.compat.v1.placeholder instead.\n",
      "\n",
      "WARNING:tensorflow:From /usr/local/lib/python3.6/dist-packages/keras/backend/tensorflow_backend.py:4432: The name tf.random_uniform is deprecated. Please use tf.random.uniform instead.\n",
      "\n",
      "WARNING:tensorflow:From /usr/local/lib/python3.6/dist-packages/keras/backend/tensorflow_backend.py:3005: The name tf.Session is deprecated. Please use tf.compat.v1.Session instead.\n",
      "\n",
      "WARNING:tensorflow:From /usr/local/lib/python3.6/dist-packages/keras/backend/tensorflow_backend.py:190: The name tf.get_default_session is deprecated. Please use tf.compat.v1.get_default_session instead.\n",
      "\n",
      "WARNING:tensorflow:From /usr/local/lib/python3.6/dist-packages/keras/backend/tensorflow_backend.py:197: The name tf.ConfigProto is deprecated. Please use tf.compat.v1.ConfigProto instead.\n",
      "\n",
      "WARNING:tensorflow:From /usr/local/lib/python3.6/dist-packages/keras/backend/tensorflow_backend.py:207: The name tf.global_variables is deprecated. Please use tf.compat.v1.global_variables instead.\n",
      "\n",
      "WARNING:tensorflow:From /usr/local/lib/python3.6/dist-packages/keras/backend/tensorflow_backend.py:216: The name tf.is_variable_initialized is deprecated. Please use tf.compat.v1.is_variable_initialized instead.\n",
      "\n",
      "WARNING:tensorflow:From /usr/local/lib/python3.6/dist-packages/keras/backend/tensorflow_backend.py:223: The name tf.variables_initializer is deprecated. Please use tf.compat.v1.variables_initializer instead.\n",
      "\n",
      "WARNING:tensorflow:From /usr/local/lib/python3.6/dist-packages/keras/backend/tensorflow_backend.py:1033: The name tf.assign_add is deprecated. Please use tf.compat.v1.assign_add instead.\n",
      "\n",
      "WARNING:tensorflow:From /usr/local/lib/python3.6/dist-packages/keras/backend/tensorflow_backend.py:1020: The name tf.assign is deprecated. Please use tf.compat.v1.assign instead.\n",
      "\n",
      "Epoch 010/100 | Loss 1.8206 | Win/lose count 5.5/1.0 (4.5)\n",
      "Epoch 020/100 | Loss 1.8355 | Win/lose count 12.0/1.0 (11.0)\n",
      "Epoch 030/100 | Loss 1.6890 | Win/lose count 5.5/0 (5.5)\n",
      "Epoch 040/100 | Loss 1.5872 | Win/lose count 6.0/1.0 (5.0)\n",
      "Epoch 050/100 | Loss 1.7179 | Win/lose count 10.5/0 (10.5)\n",
      "Epoch 060/100 | Loss 1.6172 | Win/lose count 16.0/5.0 (11.0)\n",
      "Epoch 070/100 | Loss 1.6988 | Win/lose count 16.5/1.0 (15.5)\n",
      "Epoch 080/100 | Loss 1.7180 | Win/lose count 24.0/7.0 (17.0)\n",
      "Epoch 090/100 | Loss 1.6972 | Win/lose count 9.5/2.0 (7.5)\n",
      "Epoch 100/100 | Loss 1.7146 | Win/lose count 12.0/4.0 (8.0)\n"
     ]
    },
    {
     "data": {
      "text/html": [
       "<video alt=\"test\" controls>\n",
       "                <source src=\"data:video/mp4;base64,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\" type=\"video/mp4\" />\n",
       "             </video>"
      ],
      "text/plain": [
       "<IPython.core.display.HTML object>"
      ]
     },
     "execution_count": 15,
     "metadata": {
      "tags": []
     },
     "output_type": "execute_result"
    },
    {
     "data": {
      "image/png": "[encoded data removed]",
      "text/plain": [
       "<Figure size 1008x360 with 2 Axes>"
      ]
     },
     "metadata": {
      "tags": []
     },
     "output_type": "display_data"
    }
   ],
   "source": [
    "epochs_train = 100\n",
    "env = Environment(grid_size=size, max_time=T, temperature=0.3)\n",
    "agent = DQN_CNN(size, lr=.1, epsilon = 0.1, memory_size=2000, batch_size = 32)\n",
    "train(agent,env,epochs_train,prefix='cnn_train')\n",
    "HTML(display_videos('cnn_train'+str(epochs_train)+'.mp4'))"
   ]
  },
  {
   "cell_type": "markdown",
   "metadata": {
    "colab_type": "text",
    "id": "1oJS5wyo8KY0"
   },
   "source": [
    "The training is similar to the one of the fully connected network: the loss does not decrease very much while the score keeps improving, with a large variance."
   ]
  },
  {
   "cell_type": "markdown",
   "metadata": {
    "colab_type": "text",
    "id": "hDR1dE5Al0GY"
   },
   "source": [
    "***\n",
    "***\n",
    "__Question 9__ Test both algorithms and compare their performances. Which issue(s) do you observe? Observe also different behaviors by changing the temperature."
   ]
  },
  {
   "cell_type": "code",
   "execution_count": 39,
   "metadata": {
    "colab": {
     "base_uri": "https://localhost:8080/",
     "height": 119
    },
    "colab_type": "code",
    "id": "6MznURa7l0Gb",
    "outputId": "5975c5e8-50c7-4039-bf27-c8531bd325eb"
   },
   "outputs": [
    {
     "name": "stdout",
     "output_type": "stream",
     "text": [
      "Test of the CNN\n",
      "Win/lose count 1.5/0. Average score (5.45)\n",
      "Final score: 5.45\n",
      "Test of the FC\n",
      "Win/lose count 0.5/0. Average score (0.15)\n",
      "Final score: 0.15\n"
     ]
    }
   ],
   "source": [
    "epochs_test = 10\n",
    "env = Environment(grid_size=size, max_time=T,temperature=0.3)\n",
    "agent_cnn = DQN_CNN(size, lr=.1, epsilon = 0.1, memory_size=2000, batch_size = 32)\n",
    "agent_cnn.load(name_weights='cnn_trainmodel.h5',name_model='cnn_trainmodel.json')\n",
    "\n",
    "agent_fc = DQN_FC(size, lr=.1, epsilon = 0.1, memory_size=2000, batch_size = 32)\n",
    "agent_cnn.load(name_weights='fc_trainmodel.h5',name_model='fc_trainmodel.json')\n",
    "print('Test of the CNN')\n",
    "test(agent_cnn,env,epochs_test,prefix='cnn_test')\n",
    "print('Test of the FC')\n",
    "test(agent_fc,env,epochs_test,prefix='fc_test')"
   ]
  },
  {
   "cell_type": "code",
   "execution_count": 40,
   "metadata": {
    "colab": {
     "base_uri": "https://localhost:8080/",
     "height": 293
    },
    "colab_type": "code",
    "id": "0ZNwnJEql0Gg",
    "outputId": "cf8952a0-64cf-4d1a-dffb-a2218996372c"
   },
   "outputs": [
    {
     "data": {
      "text/html": [
       "<video alt=\"test\" controls>\n",
       "                <source src=\"data:video/mp4;base64,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\" type=\"video/mp4\" />\n",
       "             </video>"
      ],
      "text/plain": [
       "<IPython.core.display.HTML object>"
      ]
     },
     "execution_count": 40,
     "metadata": {
      "tags": []
     },
     "output_type": "execute_result"
    }
   ],
   "source": [
    "HTML(display_videos('cnn_test'+str(epochs_test)+'.mp4'))"
   ]
  },
  {
   "cell_type": "code",
   "execution_count": 42,
   "metadata": {
    "colab": {
     "base_uri": "https://localhost:8080/",
     "height": 293
    },
    "colab_type": "code",
    "id": "J47ojHKjl0Gm",
    "outputId": "1a72e004-4686-402a-9b56-04e2c855cdb5"
   },
   "outputs": [
    {
     "data": {
      "text/html": [
       "<video alt=\"test\" controls>\n",
       "                <source src=\"data:video/mp4;base64,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\" type=\"video/mp4\" />\n",
       "             </video>"
      ],
      "text/plain": [
       "<IPython.core.display.HTML object>"
      ]
     },
     "execution_count": 42,
     "metadata": {
      "tags": []
     },
     "output_type": "execute_result"
    }
   ],
   "source": [
    "HTML(display_videos('fc_test'+str(epochs_test)+'.mp4'))"
   ]
  },
  {
   "cell_type": "markdown",
   "metadata": {
    "colab_type": "text",
    "id": "u3Vz2nDol0Gr"
   },
   "source": [
    "**Observations**\n",
    "\n",
    "CNN are translation invariant, which is relevant in our situation because wherever the rat is on the grid, its behaviour should only depend on the immediate environment. \n",
    "\n",
    "On the other hand, FC layers are sensitive to the specification of the grid and prove less efficient.\n",
    "\n",
    "In both cases, increasing the temperature increases the score.\n",
    "\n",
    "However, there seem to be a lack of exploration, probably due to the fact that our $\\varepsilon$ is too low. This translates in oscillating movements (the rat being \"stuck\" between two or three cells). Also, once it does not see cheese anymore, it remains on known cells, which prevents it from eating poison."
   ]
  },
  {
   "cell_type": "markdown",
   "metadata": {
    "colab_type": "text",
    "id": "qNgPAAS3l0Gs"
   },
   "source": [
    "***\n",
    "\n",
    "The algorithm tends to not explore the map which can be an issue. We propose two ideas in order to encourage exploration:\n",
    "1. Incorporating a decreasing $\\epsilon$-greedy exploration. You can use the method ```set_epsilon```\n",
    "2. Append via the environment a new state that describes if a cell has been visited or not\n",
    "\n",
    "***\n",
    "__Question 10__ Design a new ```train_explore``` function and environment class ```EnvironmentExploring``` to tackle the issue of exploration.\n",
    "\n"
   ]
  },
  {
   "cell_type": "code",
   "execution_count": null,
   "metadata": {
    "colab": {},
    "colab_type": "code",
    "id": "5D1TxT6nl0Gt"
   },
   "outputs": [],
   "source": [
    "def train_explore(agent,env,epoch,prefix=''):\n",
    "    # Number of won games\n",
    "    score = 0\n",
    "    loss = 0\n",
    "    scores = []\n",
    "    losses = []\n",
    "    for e in range(1,epoch+1):\n",
    "        # At each epoch, we restart to a fresh game and get the initial state\n",
    "        state = env.reset()\n",
    "        # This assumes that the games will terminate\n",
    "        game_over = False\n",
    "\n",
    "        win = 0\n",
    "        lose = 0\n",
    "\n",
    "        while not game_over:\n",
    "            # The agent performs an action in training mode\n",
    "            action = agent.act(state,train=True)\n",
    "\n",
    "            # Apply an action to the environment, get the next state, the reward\n",
    "            # and if the games end\n",
    "            prev_state = state\n",
    "            state, reward, game_over = env.act(action)\n",
    "\n",
    "            # Update the counters\n",
    "            if reward > 0:\n",
    "                win = win + reward\n",
    "            if reward < 0:\n",
    "                lose = lose -reward\n",
    "\n",
    "            # Apply the reinforcement strategy\n",
    "            loss = agent.reinforce(prev_state, state,  action, reward, game_over)\n",
    "        agent.set_epsilon(agent.epsilon*0.95)\n",
    "\n",
    "        # Save as a mp4\n",
    "        if e % 10 == 0:\n",
    "            env.draw(prefix+str(e))\n",
    "            \n",
    "        # Update stats\n",
    "        score = win-lose\n",
    "        scores.append(score)\n",
    "        losses.append(loss)\n",
    "        if e%10==0:\n",
    "            print(\"Epoch {:03d}/{:03d} | Loss {:.4f} | Win/lose count {}/{} ({})\"\n",
    "                  .format(e, epoch, loss, win, lose, win-lose))\n",
    "        \n",
    "    agent.save(name_weights=prefix+'model.h5',name_model=prefix+'model.json')\n",
    "    fig,(ax1,ax2) = plt.subplots(1,2,figsize=(14,5))\n",
    "    ax1.plot(scores,c='g')\n",
    "    ax1.set_title('Evolution of score')\n",
    "    ax1.set_ylabel('Score')\n",
    "    ax1.set_xlabel('Epoch')\n",
    "\n",
    "    ax2.plot(losses,c='b')\n",
    "    ax2.set_title('Evolution of loss')\n",
    "    ax2.set_ylabel('Loss')\n",
    "    ax2.set_xlabel('Epoch')\n",
    "        \n",
    "class EnvironmentExploring(object):    \n",
    "    def __init__(self, grid_size=10, max_time=500, temperature=0.1):\n",
    "        grid_size = grid_size+4\n",
    "        self.grid_size = grid_size\n",
    "        self.max_time = max_time\n",
    "        self.temperature = temperature\n",
    "\n",
    "        #board on which one plays\n",
    "        self.board = np.zeros((grid_size,grid_size))\n",
    "        self.position = np.zeros((grid_size,grid_size))\n",
    "\n",
    "        # coordinate of the rat\n",
    "        self.x = 0\n",
    "        self.y = 1\n",
    "\n",
    "        # self time\n",
    "        self.t = 0\n",
    "\n",
    "        self.scale=16\n",
    "\n",
    "        self.to_draw = np.zeros((max_time+2, grid_size*self.scale, grid_size*self.scale, 3))\n",
    "        \n",
    "        self.malus_position = np.zeros((grid_size,grid_size))\n",
    "\n",
    "    def draw(self,e):\n",
    "        skvideo.io.vwrite(str(e) + '.mp4', self.to_draw)\n",
    "\n",
    "    def get_frame(self,t):\n",
    "        b = np.zeros((self.grid_size,self.grid_size,3))+128\n",
    "        b[self.board>0,0] = 256\n",
    "        b[self.board < 0, 2] = 256\n",
    "        b[self.x,self.y,:]=256\n",
    "        b[-2:,:,:]=0\n",
    "        b[:,-2:,:]=0\n",
    "        b[:2,:,:]=0\n",
    "        b[:,:2,:]=0\n",
    "        \n",
    "        b =  cv2.resize(b, None, fx=self.scale, fy=self.scale, interpolation=cv2.INTER_NEAREST)\n",
    "\n",
    "        self.to_draw[t,:,:,:]=b\n",
    "\n",
    "\n",
    "    def act(self, action,train=False):\n",
    "        \"\"\"This function returns the new state, reward and decides if the\n",
    "        game ends.\"\"\"\n",
    "\n",
    "        self.get_frame(int(self.t))\n",
    "\n",
    "        self.position = np.zeros((self.grid_size, self.grid_size))\n",
    "\n",
    "        self.position[0:2,:]= -1\n",
    "        self.position[:,0:2] = -1\n",
    "        self.position[-2:, :] = -1\n",
    "        self.position[-2:, :] = -1\n",
    "\n",
    "        self.position[self.x, self.y] = 1\n",
    "        if action == 0:\n",
    "            if self.x == self.grid_size-3:\n",
    "                self.x = self.x-1\n",
    "            else:\n",
    "                self.x = self.x + 1\n",
    "        elif action == 1:\n",
    "            if self.x == 2:\n",
    "                self.x = self.x+1\n",
    "            else:\n",
    "                self.x = self.x-1\n",
    "        elif action == 2:\n",
    "            if self.y == self.grid_size - 3:\n",
    "                self.y = self.y - 1\n",
    "            else:\n",
    "                self.y = self.y + 1\n",
    "        elif action == 3:\n",
    "            if self.y == 2:\n",
    "                self.y = self.y + 1\n",
    "            else:\n",
    "                self.y = self.y - 1\n",
    "        else:\n",
    "            RuntimeError('Error: action not recognized')\n",
    "\n",
    "        self.t = self.t + 1\n",
    "        #penalize the exploration of already explored positions\n",
    "        reward = 0\n",
    "        if train:\n",
    "            reward = -self.malus_position[self.x, self.y]\n",
    "        self.malus_position[self.x, self.y] = 2. #we boosted the malus compared to what was proposed\n",
    "        reward = reward + self.board[self.x, self.y]\n",
    "        \n",
    "        self.board[self.x, self.y] = 0\n",
    "        game_over = self.t > self.max_time\n",
    "        \n",
    "        state = np.concatenate((self.malus_position.reshape(self.grid_size, self.grid_size,1),\n",
    "                                self.board.reshape(self.grid_size, self.grid_size,1),\n",
    "                        self.position.reshape(self.grid_size, self.grid_size,1)),axis=2)\n",
    "        state = state[self.x-2:self.x+3,self.y-2:self.y+3,:]\n",
    "\n",
    "        return state, reward, game_over\n",
    "\n",
    "    def reset(self):\n",
    "        \"\"\"This function resets the game and returns the initial state\"\"\"\n",
    "\n",
    "        self.x = np.random.randint(3, self.grid_size-3, size=1)[0]\n",
    "        self.y = np.random.randint(3, self.grid_size-3, size=1)[0]\n",
    "\n",
    "\n",
    "        bonus = 0.5*np.random.binomial(1,self.temperature,size=self.grid_size**2)\n",
    "        bonus = bonus.reshape(self.grid_size,self.grid_size)\n",
    "\n",
    "        malus = -1.0*np.random.binomial(1,self.temperature,size=self.grid_size**2)\n",
    "        malus = malus.reshape(self.grid_size, self.grid_size)\n",
    "\n",
    "        self.to_draw = np.zeros((self.max_time+2, self.grid_size*self.scale, self.grid_size*self.scale, 3))\n",
    "\n",
    "\n",
    "        malus[bonus>0]=0\n",
    "\n",
    "        self.board = bonus + malus\n",
    "\n",
    "        self.position = np.zeros((self.grid_size, self.grid_size))\n",
    "        self.position[0:2,:]= -1\n",
    "        self.position[:,0:2] = -1\n",
    "        self.position[-2:, :] = -1\n",
    "        self.position[-2:, :] = -1\n",
    "        self.board[self.x,self.y] = 0\n",
    "        self.t = 0\n",
    "\n",
    "        state = np.concatenate((self.malus_position.reshape(self.grid_size, self.grid_size,1),\n",
    "                               self.board.reshape(self.grid_size, self.grid_size,1),\n",
    "                        self.position.reshape(self.grid_size, self.grid_size,1)),axis=2)\n",
    "\n",
    "        state = state[self.x - 2:self.x + 3, self.y - 2:self.y + 3, :]\n",
    "        return state"
   ]
  },
  {
   "cell_type": "code",
   "execution_count": 34,
   "metadata": {
    "colab": {
     "base_uri": "https://localhost:8080/",
     "height": 966
    },
    "colab_type": "code",
    "id": "5YaGSMM7l0Gy",
    "outputId": "a1a290c6-c8ef-4408-e345-3270a1d31c3b"
   },
   "outputs": [
    {
     "name": "stdout",
     "output_type": "stream",
     "text": [
      "Epoch 010/200 | Loss 1.9028 | Win/lose count 12.0/17.0 (-5.0)\n",
      "Epoch 020/200 | Loss 2.0649 | Win/lose count 8.5/7.0 (1.5)\n",
      "Epoch 030/200 | Loss 1.8916 | Win/lose count 13.5/2.0 (11.5)\n",
      "Epoch 040/200 | Loss 1.8408 | Win/lose count 20.5/4.0 (16.5)\n",
      "Epoch 050/200 | Loss 1.6982 | Win/lose count 8.5/2.0 (6.5)\n",
      "Epoch 060/200 | Loss 1.8045 | Win/lose count 8.0/0 (8.0)\n",
      "Epoch 070/200 | Loss 1.7251 | Win/lose count 8.0/0 (8.0)\n",
      "Epoch 080/200 | Loss 1.6968 | Win/lose count 4.0/0 (4.0)\n",
      "Epoch 090/200 | Loss 1.8070 | Win/lose count 12.0/1.0 (11.0)\n",
      "Epoch 100/200 | Loss 1.7626 | Win/lose count 2.5/0 (2.5)\n",
      "Epoch 110/200 | Loss 1.7210 | Win/lose count 6.5/0 (6.5)\n",
      "Epoch 120/200 | Loss 1.7361 | Win/lose count 10.5/0 (10.5)\n",
      "Epoch 130/200 | Loss 1.6557 | Win/lose count 5.0/1.0 (4.0)\n",
      "Epoch 140/200 | Loss 1.6712 | Win/lose count 22.5/1.0 (21.5)\n",
      "Epoch 150/200 | Loss 1.6838 | Win/lose count 15.5/1.0 (14.5)\n",
      "Epoch 160/200 | Loss 1.4339 | Win/lose count 3.5/0 (3.5)\n",
      "Epoch 170/200 | Loss 1.6827 | Win/lose count 17.5/0 (17.5)\n",
      "Epoch 180/200 | Loss 1.6420 | Win/lose count 3.5/0 (3.5)\n",
      "Epoch 190/200 | Loss 1.6188 | Win/lose count 12.0/0 (12.0)\n",
      "Epoch 200/200 | Loss 1.7067 | Win/lose count 9.5/0 (9.5)\n"
     ]
    },
    {
     "data": {
      "text/html": [
       "<video alt=\"test\" controls>\n",
       "                <source src=\"data:video/mp4;base64,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\" type=\"video/mp4\" />\n",
       "             </video>"
      ],
      "text/plain": [
       "<IPython.core.display.HTML object>"
      ]
     },
     "execution_count": 34,
     "metadata": {
      "tags": []
     },
     "output_type": "execute_result"
    },
    {
     "data": {
      "image/png": "[encoded data removed]",
      "text/plain": [
       "<Figure size 1008x360 with 2 Axes>"
      ]
     },
     "metadata": {
      "tags": []
     },
     "output_type": "display_data"
    }
   ],
   "source": [
    "# Training\n",
    "epochs_train = 200\n",
    "env = EnvironmentExploring(grid_size=size, max_time=T, temperature=0.3)\n",
    "agent = DQN_CNN(size, lr=.1, epsilon = 0.9, memory_size=2000, batch_size = 32,n_state=3)\n",
    "train_explore(agent, env, epochs_train, prefix='cnn_train_explore')\n",
    "HTML(display_videos('cnn_train_explore'+str(epochs_train)+'.mp4'))"
   ]
  },
  {
   "cell_type": "code",
   "execution_count": 37,
   "metadata": {
    "colab": {
     "base_uri": "https://localhost:8080/",
     "height": 327
    },
    "colab_type": "code",
    "collapsed": true,
    "id": "0IrxcjpFl0G6",
    "jupyter": {
     "outputs_hidden": true
    },
    "outputId": "4f7ddc37-f0dd-498c-8cdc-2b1d4ef3017d"
   },
   "outputs": [
    {
     "name": "stdout",
     "output_type": "stream",
     "text": [
      "Win/lose count 13.5/0. Average score (12.8)\n",
      "Final score: 12.8\n"
     ]
    },
    {
     "data": {
      "text/html": [
       "<video alt=\"test\" controls>\n",
       "                <source src=\"data:video/mp4;base64,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\" type=\"video/mp4\" />\n",
       "             </video>"
      ],
      "text/plain": [
       "<IPython.core.display.HTML object>"
      ]
     },
     "execution_count": 37,
     "metadata": {
      "tags": []
     },
     "output_type": "execute_result"
    }
   ],
   "source": [
    "# Evaluation\n",
    "epochs_test = 10\n",
    "test(agent,env,epochs_test,prefix='cnn_test_explore')\n",
    "HTML(display_videos('cnn_test_explore'+str(epochs_test)+'.mp4'))"
   ]
  },
  {
   "cell_type": "markdown",
   "metadata": {
    "colab_type": "text",
    "id": "zkcmThKzTkHT"
   },
   "source": [
    "Our model, despite the malus trick, keeps getting stuck in some place after having explored approximately half the grid (ie, once it does not see cheese anymore). However, it overall behaves in a way more relevant manner than the previous models. Also, the loss has the expected non increasing behaviour."
   ]
  },
  {
   "cell_type": "markdown",
   "metadata": {
    "colab_type": "text",
    "id": "3OFjt55ll0G9"
   },
   "source": [
    "***\n",
    "***\n",
    "__BONUS question__ Use the expert DQN from the previous question to generate some winning games. Train a model that mimicks its behavior. Compare the performances."
   ]
  },
  {
   "cell_type": "markdown",
   "metadata": {
    "colab_type": "text",
    "id": "aOwodncYl0HA"
   },
   "source": []
  },
  {
   "cell_type": "markdown",
   "metadata": {
    "colab_type": "text",
    "id": "Tl4ipWZzl0HB"
   },
   "source": [
    "***"
   ]
  }
 ],
 "metadata": {
  "accelerator": "GPU",
  "colab": {
   "collapsed_sections": [],
   "name": "DQN_project_MVA.ipynb",
   "provenance": []
  },
  "kernelspec": {
   "display_name": "Python 3",
   "language": "python",
   "name": "python3"
  },
  "language_info": {
   "codemirror_mode": {
    "name": "ipython",
    "version": 3
   },
   "file_extension": ".py",
   "mimetype": "text/x-python",
   "name": "python",
   "nbconvert_exporter": "python",
   "pygments_lexer": "ipython3",
   "version": "3.7.4"
  }
 },
 "nbformat": 4,
 "nbformat_minor": 4
}
